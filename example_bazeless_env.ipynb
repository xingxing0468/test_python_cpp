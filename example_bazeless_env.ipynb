{
 "cells": [
  {
   "cell_type": "code",
   "execution_count": null,
   "metadata": {},
   "outputs": [],
   "source": [
    "import sys\n",
    "\n",
    "sys.path.append('/home/zett/python_executable/example/runfiles') # Path after extract the python zip\n",
    "sys.path.append('/home/zett/python_executable/example/runfiles/_main') # Path after extract the python zip + _main"
   ]
  },
  {
   "cell_type": "code",
   "execution_count": 7,
   "metadata": {},
   "outputs": [
    {
     "data": {
      "text/plain": [
       "ret_geos {\n",
       "  height: 11.1\n",
       "  length: 12.2\n",
       "}\n",
       "ret_geos {\n",
       "  height: 21.1\n",
       "  length: 22.2\n",
       "}"
      ]
     },
     "execution_count": 7,
     "metadata": {},
     "output_type": "execute_result"
    }
   ],
   "source": [
    "from src.interface.IMmService_pb2 import Mm_Stub\n",
    "from src.interface.IMmService_pb2 import GeoT, MmType, MmT, MmFilterInputT\n",
    "from z_python_cpp.src.python.service_channel.ipc_service_channel import g_ipc_service_channel\n",
    "\n",
    "ms = [MmT(geometry=GeoT(height=0, length=0), type=MmType.MmType_NORMAL),\n",
    "           MmT(geometry=GeoT(height=11.1, length=12.2), type=MmType.MmType_FOOL),\n",
    "           MmT(geometry=GeoT(height=21.1, length=22.2), type=MmType.MmType_FOOL),\n",
    "           MmT(geometry=GeoT(height=31.1, length=32.2), type=MmType.MmType_NORMAL)]\n",
    "\n",
    "mm_service = Mm_Stub(g_ipc_service_channel)\n",
    "target_mm = mm_service.GetMmGeos(None, MmFilterInputT(mms=ms, type=MmType.MmType_FOOL), None)\n",
    "target_mm"
   ]
  }
 ],
 "metadata": {
  "kernelspec": {
   "display_name": "Python 3",
   "language": "python",
   "name": "python3"
  },
  "language_info": {
   "codemirror_mode": {
    "name": "ipython",
    "version": 3
   },
   "file_extension": ".py",
   "mimetype": "text/x-python",
   "name": "python",
   "nbconvert_exporter": "python",
   "pygments_lexer": "ipython3",
   "version": "3.10.12"
  }
 },
 "nbformat": 4,
 "nbformat_minor": 2
}
